{
 "cells": [
  {
   "cell_type": "markdown",
   "metadata": {},
   "source": [
    "# MNIST"
   ]
  },
  {
   "cell_type": "markdown",
   "metadata": {},
   "source": [
    "## Loading the data\n",
    "\n",
    "For MNIST, Pytorch offers a premade `Dataset` class with downloading functionality. It does need to be passed the `torchvision.transforms.ToTensor()` function to turn the loaded images from the generic `PIL.Image` type to a PyTorch `Tensor` objects, which are like matrices."
   ]
  },
  {
   "cell_type": "code",
   "execution_count": 1,
   "metadata": {},
   "outputs": [],
   "source": [
    "import matplotlib.pyplot as plt\n",
    "\n",
    "from torchvision import datasets, transforms\n",
    "\n",
    "mnist_train = datasets.MNIST(root='data/', train=True, download=True, transform=transforms.ToTensor())\n",
    "mnist_test = datasets.MNIST(root='data/', train=False, download=True, transform=transforms.ToTensor())"
   ]
  },
  {
   "cell_type": "markdown",
   "metadata": {},
   "source": [
    "Next we need an iterator object to iterate over the data when we are training or testing. Pytorch supplies the `data.DataLoader` for this purpose, with built-in `batch_size` and `shuffle` parameters. It returns an iterator over a list of lists. Each of the inner lists contains two `torch.Size` objects, which contain the batch data and the batch targets in that order."
   ]
  },
  {
   "cell_type": "code",
   "execution_count": 12,
   "metadata": {},
   "outputs": [
    {
     "name": "stdout",
     "output_type": "stream",
     "text": [
      "This is a batch, which is a list: [torch.Size([64, 1, 28, 28]), torch.Size([64])]\n",
      "Each image in the batch data has shape torch.Size([1, 28, 28])\n",
      "This image is annotated as a 9.\n"
     ]
    },
    {
     "data": {
      "image/png": "[encoded data removed]",
      "text/plain": [
       "<Figure size 432x288 with 1 Axes>"
      ]
     },
     "metadata": {
      "needs_background": "light"
     },
     "output_type": "display_data"
    }
   ],
   "source": [
    "from torch.utils import data\n",
    "import matplotlib.pyplot as plt\n",
    "\n",
    "train_loader = data.DataLoader(mnist_train, batch_size=64, shuffle=True)\n",
    "test_loader = data.DataLoader(mnist_test, batch_size=64, shuffle=True)\n",
    "\n",
    "for batch_data, batch_targets in train_loader:\n",
    "    print(f'This is a batch, which is a list: [{batch_data.shape}, {batch_targets.shape}]')\n",
    "    for target, image in enumerate(batch_data):\n",
    "        print(f'Each image in the batch data has shape {image.shape}')\n",
    "        plt.imshow(image.view(28,28))\n",
    "        print(f'This image is annotated as a {batch_targets[target]}.')\n",
    "        break\n",
    "    break\n",
    "\n"
   ]
  },
  {
   "cell_type": "code",
   "execution_count": null,
   "metadata": {},
   "outputs": [],
   "source": []
  }
 ],
 "metadata": {
  "kernelspec": {
   "display_name": "Python 3",
   "language": "python",
   "name": "python3"
  },
  "language_info": {
   "codemirror_mode": {
    "name": "ipython",
    "version": 3
   },
   "file_extension": ".py",
   "mimetype": "text/x-python",
   "name": "python",
   "nbconvert_exporter": "python",
   "pygments_lexer": "ipython3",
   "version": "3.8.1"
  }
 },
 "nbformat": 4,
 "nbformat_minor": 4
}
